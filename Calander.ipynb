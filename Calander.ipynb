{
 "cells": [
  {
   "cell_type": "markdown",
   "metadata": {},
   "source": [
    "# Durham Calander Converter"
   ]
  },
  {
   "cell_type": "markdown",
   "metadata": {},
   "source": [
    "Open the Durham calendar file from the specified path and split file into seperate lines. The calendar will be stored in a list."
   ]
  },
  {
   "cell_type": "code",
   "execution_count": 8,
   "metadata": {},
   "outputs": [],
   "source": [
    "import urllib.request\n",
    "with urllib.request.urlopen('https://mytimetable.durham.ac.uk/calendar/export/42967e37b231f0a8d9df28e1cfd77ae777e26a8b.ics') as f:\n",
    "    calander = f.read().decode('utf-8').splitlines()"
   ]
  },
  {
   "cell_type": "markdown",
   "metadata": {},
   "source": [
    "Itterate through the calendar list starting from index 41 moving in steps of 9. The first 40 lines of the calendar file are meta data and can be ignored for the purspose of this script. Each calendar event is 8 lines long. The 2nd line in each event is the summary, 3rd is the description and 4th the location.\n",
    "\n",
    "We will reassign the description to be equal to the module code and the summary to be equal to the module name plus the room location. This is far more user friendly than the previous setup.\n",
    "\n",
    "Old: COMP1081<br>\n",
    "New: Algorithms and Data Structures - D/PH8"
   ]
  },
  {
   "cell_type": "code",
   "execution_count": 9,
   "metadata": {},
   "outputs": [],
   "source": [
    "for i in range(41, len(calander), 9):\n",
    "    x, summary = calander[i+2].split(\":\")\n",
    "    x, description = calander[i+3].split(\":\")\n",
    "    x, location = calander[i+4].split(\":\")\n",
    "\n",
    "    calander[i+2] = \"DESCRIPTION:\" + summary\n",
    "    calander[i+3] = \"SUMMARY:\" + description + \" - \" + location\n"
   ]
  },
  {
   "cell_type": "markdown",
   "metadata": {},
   "source": [
    "Output the ammended calander as a ics file. This file can be added to your calander application."
   ]
  },
  {
   "cell_type": "code",
   "execution_count": 10,
   "metadata": {},
   "outputs": [
    {
     "name": "stdout",
     "output_type": "stream",
     "text": [
      "Done\n"
     ]
    }
   ],
   "source": [
    "with open('./new.ics', 'w') as f:\n",
    "    for line in calander:\n",
    "        f.write(\"%s\\n\" % line)\n",
    "    print('Done')"
   ]
  },
  {
   "cell_type": "markdown",
   "metadata": {},
   "source": [
    "# Limitations\n",
    "\n",
    "The origional .ics file is constantly updated and will reflect ammendments made to the calander. The new .ics file is static and will not update to reflect any timetable changes."
   ]
  }
 ],
 "metadata": {
  "kernelspec": {
   "display_name": "Python 3 (ipykernel)",
   "language": "python",
   "name": "python3"
  },
  "language_info": {
   "codemirror_mode": {
    "name": "ipython",
    "version": 3
   },
   "file_extension": ".py",
   "mimetype": "text/x-python",
   "name": "python",
   "nbconvert_exporter": "python",
   "pygments_lexer": "ipython3",
   "version": "3.9.12"
  },
  "vscode": {
   "interpreter": {
    "hash": "31f2aee4e71d21fbe5cf8b01ff0e069b9275f58929596ceb00d14d90e3e16cd6"
   }
  }
 },
 "nbformat": 4,
 "nbformat_minor": 2
}
